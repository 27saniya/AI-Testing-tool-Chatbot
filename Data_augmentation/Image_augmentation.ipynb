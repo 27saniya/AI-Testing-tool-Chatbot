{
 "cells": [
  {
   "cell_type": "markdown",
   "id": "085246d4-8509-4b9c-9c71-8a4ebc9e2389",
   "metadata": {},
   "source": [
    "## Code for Image Augmentation"
   ]
  },
  {
   "cell_type": "code",
   "execution_count": 13,
   "id": "7a5a24c2-f460-443a-a446-d2948b6319de",
   "metadata": {},
   "outputs": [
    {
     "name": "stdout",
     "output_type": "stream",
     "text": [
      "og_images\\image_1.jpg\n",
      "og_images\\image_2.jpg\n",
      "og_images\\image_3.jpg\n",
      "og_images\\image_4.jpg\n",
      "og_images\\image_5.jpg\n",
      "og_images\\image_6.jpg\n",
      "og_images\\image_7.jpg\n",
      "og_images\\image_8.jpg\n",
      "og_images\\image_9.jpg\n",
      "og_images\\image_10.jpg\n",
      "og_images\\image_11.jpg\n",
      "og_images\\image_12.jpg\n",
      "og_images\\image_13.jpg\n",
      "og_images\\image_14.jpg\n",
      "og_images\\image_15.jpg\n",
      "og_images\\image_16.jpg\n",
      "og_images\\image_17.jpg\n",
      "og_images\\image_18.jpg\n",
      "og_images\\image_19.jpg\n",
      "og_images\\image_20.jpg\n",
      "og_images\\image_21.jpg\n",
      "og_images\\image_22.jpg\n",
      "og_images\\image_23.jpg\n",
      "og_images\\image_24.jpg\n",
      "og_images\\image_25.jpg\n",
      "og_images\\image_26.jpg\n",
      "og_images\\image_27.jpg\n",
      "og_images\\image_28.jpg\n",
      "og_images\\image_29.jpg\n",
      "og_images\\image_30.jpg\n",
      "og_images\\image_31.jpg\n",
      "og_images\\image_32.jpg\n",
      "og_images\\image_33.jpg\n",
      "og_images\\image_34.jpg\n",
      "og_images\\image_35.jpg\n",
      "og_images\\image_36.jpg\n",
      "og_images\\image_37.jpg\n",
      "og_images\\image_38.jpg\n",
      "og_images\\image_39.jpg\n",
      "og_images\\image_40.jpg\n"
     ]
    }
   ],
   "source": [
    "import os\n",
    "import cv2\n",
    "import random\n",
    "from keras.preprocessing.image import ImageDataGenerator\n",
    "\n",
    "# Define the directories and paths\n",
    "og_dir = \"og_images\"\n",
    "aug_dir = \"aug_images\"\n",
    "if not os.path.exists(aug_dir):\n",
    "    os.makedirs(aug_dir)\n",
    "\n",
    "# Define the image data generator\n",
    "datagen = ImageDataGenerator(\n",
    "    shear_range=0.2,\n",
    "    #zoom_range=0.2,\n",
    "    #horizontal_flip=True,\n",
    "    vertical_flip = True,\n",
    "    fill_mode='nearest'\n",
    ")\n",
    "\n",
    "# Iterate through each image in the og_dir folder and generate 10 augmented images\n",
    "for i in range(1, 41):\n",
    "    # Load the image\n",
    "    img_path = os.path.join(og_dir, f\"image_{i}.jpg\")\n",
    "    print(img_path)\n",
    "    img = cv2.imread(img_path)\n",
    "    \n",
    "    # Generate 10 augmented images\n",
    "    aug_dir_i = os.path.join(aug_dir, f\"image_{i}\")\n",
    "    if not os.path.exists(aug_dir_i):\n",
    "        os.makedirs(aug_dir_i)\n",
    "    for j in range(10):\n",
    "        # Generate the augmented image\n",
    "        aug_img = datagen.random_transform(img)\n",
    "        \n",
    "        # Add noise to the image with probability 0.3\n",
    "        if random.random() < 0.3:\n",
    "            noise = np.random.normal(0, 1, aug_img.shape) * 50\n",
    "            aug_img = np.clip(aug_img + noise, 0, 255).astype(np.uint8)\n",
    "        \n",
    "        # Save the augmented image\n",
    "        aug_img_path = os.path.join(aug_dir_i, f\"image_{i}_aug{j+1}.jpg\")\n",
    "        cv2.imwrite(aug_img_path, aug_img)\n"
   ]
  },
  {
   "cell_type": "code",
   "execution_count": null,
   "id": "7871ffdf-3bd8-430d-9b6d-57f46d3231ff",
   "metadata": {},
   "outputs": [],
   "source": []
  }
 ],
 "metadata": {
  "kernelspec": {
   "display_name": "Python 3 (ipykernel)",
   "language": "python",
   "name": "python3"
  },
  "language_info": {
   "codemirror_mode": {
    "name": "ipython",
    "version": 3
   },
   "file_extension": ".py",
   "mimetype": "text/x-python",
   "name": "python",
   "nbconvert_exporter": "python",
   "pygments_lexer": "ipython3",
   "version": "3.9.7"
  }
 },
 "nbformat": 4,
 "nbformat_minor": 5
}
